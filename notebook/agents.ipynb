{
 "cells": [
  {
   "cell_type": "code",
   "execution_count": 1,
   "id": "a68fd53f",
   "metadata": {},
   "outputs": [],
   "source": [
    "import os "
   ]
  },
  {
   "cell_type": "code",
   "execution_count": 2,
   "id": "c376dee5",
   "metadata": {},
   "outputs": [
    {
     "data": {
      "text/plain": [
       "'d:\\\\Learnings\\\\GenAI\\\\KNAC\\\\myfiles\\\\projects\\\\Agentic_Trading_Chatbot\\\\notebook'"
      ]
     },
     "execution_count": 2,
     "metadata": {},
     "output_type": "execute_result"
    }
   ],
   "source": [
    "os.getcwd()"
   ]
  },
  {
   "cell_type": "code",
   "execution_count": 3,
   "id": "245ecd0a",
   "metadata": {},
   "outputs": [],
   "source": [
    "os.chdir(\"..\")"
   ]
  },
  {
   "cell_type": "code",
   "execution_count": 4,
   "id": "f626d574",
   "metadata": {},
   "outputs": [
    {
     "data": {
      "text/plain": [
       "'d:\\\\Learnings\\\\GenAI\\\\KNAC\\\\myfiles\\\\projects\\\\Agentic_Trading_Chatbot'"
      ]
     },
     "execution_count": 4,
     "metadata": {},
     "output_type": "execute_result"
    }
   ],
   "source": [
    "os.getcwd()"
   ]
  },
  {
   "cell_type": "markdown",
   "id": "c9eddd15",
   "metadata": {},
   "source": [
    "# contants"
   ]
  },
  {
   "cell_type": "code",
   "execution_count": null,
   "id": "faa5364d",
   "metadata": {},
   "outputs": [
    {
     "name": "stderr",
     "output_type": "stream",
     "text": [
      "d:\\Learnings\\GenAI\\KNAC\\myfiles\\projects\\Agentic_Trading_Chatbot\\.venv\\lib\\site-packages\\tqdm\\auto.py:21: TqdmWarning: IProgress not found. Please update jupyter and ipywidgets. See https://ipywidgets.readthedocs.io/en/stable/user_install.html\n",
      "  from .autonotebook import tqdm as notebook_tqdm\n"
     ]
    }
   ],
   "source": [
    "from dataclasses import dataclass \n",
    "from trading_bot.utils import load_yaml\n",
    "\n",
    "\n",
    "CONFIG=load_yaml(\"config/config.yaml\")\n",
    "\n",
    "@dataclass \n",
    "class AgentsConstants:\n",
    "    GOOGLE_REASONING_MODEL_NAME=CONFIG.MODELS.REASONERS.GEMINI_FLASH\n",
    "    GROQ_REASONING_MODEL_NAME=CONFIG.MODELS.REASONERS.DEEPSEEK_R1"
   ]
  },
  {
   "cell_type": "code",
   "execution_count": 6,
   "id": "4ecf1aa8",
   "metadata": {},
   "outputs": [
    {
     "name": "stdout",
     "output_type": "stream",
     "text": [
      "GOOGLE_REASONING_MODEL_NAME: gemini-2.5-pro-exp-03-25\n",
      "GROQ_REASONING_MODEL_NAME: deepseek-r1-distill-llama-70b\n"
     ]
    }
   ],
   "source": [
    "print(\"GOOGLE_REASONING_MODEL_NAME:\", AgentsConstants.GOOGLE_REASONING_MODEL_NAME)\n",
    "print(\"GROQ_REASONING_MODEL_NAME:\", AgentsConstants.GROQ_REASONING_MODEL_NAME)"
   ]
  },
  {
   "cell_type": "markdown",
   "id": "b4fae622",
   "metadata": {},
   "source": [
    "# entity"
   ]
  },
  {
   "cell_type": "code",
   "execution_count": 7,
   "id": "41807dc9",
   "metadata": {},
   "outputs": [],
   "source": [
    "from dataclasses import dataclass \n",
    "\n",
    "\n",
    "@dataclass \n",
    "class Agents:\n",
    "    GOOGLE_REASONING_MODEL_NAME:str\n",
    "    GROQ_REASONING_MODEL_NAME:str"
   ]
  },
  {
   "cell_type": "markdown",
   "id": "5ae926d5",
   "metadata": {},
   "source": [
    "# configuration"
   ]
  },
  {
   "cell_type": "code",
   "execution_count": 8,
   "id": "ddc97f8f",
   "metadata": {},
   "outputs": [],
   "source": [
    "from dataclasses import dataclass \n",
    "\n",
    "\n",
    "@dataclass \n",
    "class AgentsConfig:\n",
    "    GOOGLE_REASONING_MODEL_NAME=str(AgentsConstants.GOOGLE_REASONING_MODEL_NAME)\n",
    "    GROQ_REASONING_MODEL_NAME=str(AgentsConstants.GROQ_REASONING_MODEL_NAME)"
   ]
  },
  {
   "cell_type": "code",
   "execution_count": 9,
   "id": "4eae3940",
   "metadata": {},
   "outputs": [
    {
     "name": "stdout",
     "output_type": "stream",
     "text": [
      "GOOGLE_REASONING_MODEL_NAME: gemini-2.5-pro-exp-03-25\n",
      "<class 'str'>\n",
      "GROQ_REASONING_MODEL_NAME: deepseek-r1-distill-llama-70b\n",
      "<class 'str'>\n"
     ]
    }
   ],
   "source": [
    "print(\"GOOGLE_REASONING_MODEL_NAME:\", AgentsConfig.GOOGLE_REASONING_MODEL_NAME)\n",
    "print(type(AgentsConfig.GOOGLE_REASONING_MODEL_NAME))\n",
    "print(\"GROQ_REASONING_MODEL_NAME:\", AgentsConfig.GROQ_REASONING_MODEL_NAME)\n",
    "print(type(AgentsConfig.GROQ_REASONING_MODEL_NAME))"
   ]
  },
  {
   "cell_type": "markdown",
   "id": "3edf2fb2",
   "metadata": {},
   "source": [
    "# schema"
   ]
  },
  {
   "cell_type": "code",
   "execution_count": 12,
   "id": "ee27bb68",
   "metadata": {},
   "outputs": [],
   "source": [
    "from typing_extensions import Annotated, TypedDict\n",
    "from langgraph.graph.message import add_messages\n",
    "\n",
    "\n",
    "class State(TypedDict):\n",
    "    messages: Annotated[list, add_messages]"
   ]
  },
  {
   "cell_type": "markdown",
   "id": "2ff0e965",
   "metadata": {},
   "source": [
    "# components"
   ]
  },
  {
   "cell_type": "code",
   "execution_count": null,
   "id": "3ba609f2",
   "metadata": {},
   "outputs": [],
   "source": [
    "from langgraph.prebuilt.tool_node import ToolNode, tools_condition\n",
    "from trading_bot.exception import CustomException\n",
    "from langgraph.graph import StateGraph, START\n",
    "from trading_bot.utils import load_reasoner\n",
    "from trading_bot.logger import logging\n",
    "from langchain_core.tools import tool\n",
    "from dataclasses import dataclass , field\n",
    "from typing import List\n",
    "import sys \n",
    "\n",
    "\n",
    "\n",
    "@dataclass \n",
    "class AgentsComponents:\n",
    "    __Agents_config:Agents\n",
    "    __tools:List[tool]\n",
    "    __graph:StateGraph = field(init=False)\n",
    "    \n",
    "\n",
    "    def __chatbot_node(self, state:State) -> dict:\n",
    "        \"\"\"node for llm chat\n",
    "\n",
    "        Args:\n",
    "            state (State): should have attribute/key named as messages, messages should be list\n",
    "\n",
    "        Returns:\n",
    "            dict: {\"messages\": [output of llm]}\n",
    "        \"\"\"\n",
    "        try:\n",
    "            logging.info(\"In get_chat_node\")\n",
    "            llm=load_reasoner(self.__Agents_config.GOOGLE_REASONING_MODEL_NAME, self.__Agents_config.GROQ_REASONING_MODEL_NAME)\n",
    "            try:\n",
    "                llm_name=llm.model\n",
    "            except:\n",
    "                llm_name=llm.model_name\n",
    "            logging.info(f\"Reasoner loaded {{{llm_name}}}\")\n",
    "\n",
    "            self.llm_with_tools=llm.bind_tools(self.__tools)\n",
    "            logging.info(\"Out get_chat_node\")\n",
    "            return {\"messages\": [self.llm_with_tools.invoke(state[\"messages\"])]}\n",
    "        except Exception as e:\n",
    "            logging.exception(e)\n",
    "            raise CustomException(e, sys)\n",
    "\n",
    "    def __post_init__(self) -> None:\n",
    "        try:\n",
    "            logging.info(\"In build_workflow\")\n",
    "            graph_builder=StateGraph(State)\n",
    "        \n",
    "            graph_builder.add_node(\"chatbot\", self.__chatbot_node)\n",
    "            \n",
    "            tool_node=ToolNode(tools=self.__tools)\n",
    "            graph_builder.add_node(\"tools\", tool_node)\n",
    "            \n",
    "            graph_builder.add_conditional_edges(\"chatbot\", tools_condition)\n",
    "            graph_builder.add_edge(\"tools\", \"chatbot\")\n",
    "            graph_builder.add_edge(START, \"chatbot\")\n",
    "            \n",
    "            self.__graph=graph_builder.compile() \n",
    "            logging.info(\"Out build_workflow\")\n",
    "        except Exception as e:\n",
    "            logging.exception(e)\n",
    "            raise CustomException(e, sys)\n",
    "        \n",
    "    def get_graph(self) -> StateGraph:\n",
    "        \"\"\"builds agentic graph/workflow\n",
    "\n",
    "        Returns:\n",
    "            StateGraph: graph/workflow\n",
    "        \"\"\"\n",
    "        return self.__graph"
   ]
  },
  {
   "cell_type": "code",
   "execution_count": null,
   "id": "32fda11a",
   "metadata": {},
   "outputs": [],
   "source": []
  }
 ],
 "metadata": {
  "kernelspec": {
   "display_name": ".venv",
   "language": "python",
   "name": "python3"
  },
  "language_info": {
   "codemirror_mode": {
    "name": "ipython",
    "version": 3
   },
   "file_extension": ".py",
   "mimetype": "text/x-python",
   "name": "python",
   "nbconvert_exporter": "python",
   "pygments_lexer": "ipython3",
   "version": "3.10.16"
  }
 },
 "nbformat": 4,
 "nbformat_minor": 5
}
