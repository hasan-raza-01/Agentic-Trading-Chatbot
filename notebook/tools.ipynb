{
 "cells": [
  {
   "cell_type": "code",
   "execution_count": 1,
   "id": "a848b426",
   "metadata": {},
   "outputs": [],
   "source": [
    "import os"
   ]
  },
  {
   "cell_type": "code",
   "execution_count": 2,
   "id": "d4852cae",
   "metadata": {},
   "outputs": [
    {
     "data": {
      "text/plain": [
       "'d:\\\\Learnings\\\\GenAI\\\\KNAC\\\\myfiles\\\\projects\\\\Agentic_Trading_Chatbot\\\\notebook'"
      ]
     },
     "execution_count": 2,
     "metadata": {},
     "output_type": "execute_result"
    }
   ],
   "source": [
    "os.getcwd()"
   ]
  },
  {
   "cell_type": "code",
   "execution_count": 3,
   "id": "41d2438f",
   "metadata": {},
   "outputs": [],
   "source": [
    "os.chdir(\"..\")"
   ]
  },
  {
   "cell_type": "code",
   "execution_count": 4,
   "id": "88d807af",
   "metadata": {},
   "outputs": [
    {
     "data": {
      "text/plain": [
       "'d:\\\\Learnings\\\\GenAI\\\\KNAC\\\\myfiles\\\\projects\\\\Agentic_Trading_Chatbot'"
      ]
     },
     "execution_count": 4,
     "metadata": {},
     "output_type": "execute_result"
    }
   ],
   "source": [
    "os.getcwd()"
   ]
  },
  {
   "cell_type": "markdown",
   "id": "d5598f3b",
   "metadata": {},
   "source": [
    "# contants"
   ]
  },
  {
   "cell_type": "code",
   "execution_count": null,
   "id": "d6b010c0",
   "metadata": {},
   "outputs": [],
   "source": [
    "from dataclasses import dataclass \n",
    "from trading_bot.utils import load_yaml \n",
    "\n",
    "\n",
    "CONFIG=load_yaml(\"config/config.yaml\")\n",
    "\n",
    "@dataclass \n",
    "class ToolsConstants:\n",
    "    RETRIEVER_TOP_K=CONFIG.TOOLS.RETRIEVER.TOP_K\n",
    "    RETRIEVER_SCORE_THRESHOLD=CONFIG.TOOLS.RETRIEVER.SCORE_THRESHOLD\n",
    "    TAVILY_MAX_RESULTS=CONFIG.TOOLS.TAVILY.MAX_RESULTS"
   ]
  },
  {
   "cell_type": "code",
   "execution_count": 10,
   "id": "a57319bb",
   "metadata": {},
   "outputs": [
    {
     "name": "stdout",
     "output_type": "stream",
     "text": [
      "RETRIEVER_TOP_K: 3\n",
      "RETRIEVER_SCORE_THRESHOLD: 0.5\n",
      "TAVILY_MAX_RESULTS: 5\n"
     ]
    }
   ],
   "source": [
    "print(\"RETRIEVER_TOP_K:\", ToolsConstants.RETRIEVER_TOP_K)\n",
    "print(\"RETRIEVER_SCORE_THRESHOLD:\", ToolsConstants.RETRIEVER_SCORE_THRESHOLD)\n",
    "print(\"TAVILY_MAX_RESULTS:\", ToolsConstants.TAVILY_MAX_RESULTS)"
   ]
  },
  {
   "cell_type": "markdown",
   "id": "7e54a7ca",
   "metadata": {},
   "source": [
    "\n",
    "# entity"
   ]
  },
  {
   "cell_type": "code",
   "execution_count": 13,
   "id": "d242eabc",
   "metadata": {},
   "outputs": [],
   "source": [
    "from dataclasses import dataclass \n",
    "\n",
    "@dataclass \n",
    "class Tools:\n",
    "    RETRIEVER_TOP_K:int\n",
    "    RETRIEVER_SCORE_THRESHOLD:float\n",
    "    TAVILY_MAX_RESULTS:int"
   ]
  },
  {
   "cell_type": "markdown",
   "id": "db09ecc5",
   "metadata": {},
   "source": [
    "# configuration"
   ]
  },
  {
   "cell_type": "code",
   "execution_count": 14,
   "id": "9cf0053c",
   "metadata": {},
   "outputs": [],
   "source": [
    "from dataclasses import dataclass \n",
    "\n",
    "@dataclass \n",
    "class ToolsConfig:\n",
    "    RETRIEVER_TOP_K=int(ToolsConstants.RETRIEVER_TOP_K)\n",
    "    RETRIEVER_SCORE_THRESHOLD=float(ToolsConstants.RETRIEVER_SCORE_THRESHOLD)\n",
    "    TAVILY_MAX_RESULTS=int(ToolsConstants.TAVILY_MAX_RESULTS)"
   ]
  },
  {
   "cell_type": "code",
   "execution_count": 16,
   "id": "4d30ec97",
   "metadata": {},
   "outputs": [
    {
     "name": "stdout",
     "output_type": "stream",
     "text": [
      "RETRIEVER_TOP_K: 3\n",
      "<class 'int'>\n",
      "RETRIEVER_SCORE_THRESHOLD: 0.5\n",
      "<class 'float'>\n",
      "TAVILY_MAX_RESULTS: 5\n",
      "<class 'int'>\n"
     ]
    }
   ],
   "source": [
    "print(\"RETRIEVER_TOP_K:\", ToolsConfig.RETRIEVER_TOP_K)\n",
    "print(type(ToolsConfig.RETRIEVER_TOP_K))\n",
    "print(\"RETRIEVER_SCORE_THRESHOLD:\", ToolsConfig.RETRIEVER_SCORE_THRESHOLD)\n",
    "print(type(ToolsConfig.RETRIEVER_SCORE_THRESHOLD))\n",
    "print(\"TAVILY_MAX_RESULTS:\", ToolsConfig.TAVILY_MAX_RESULTS)\n",
    "print(type(ToolsConfig.TAVILY_MAX_RESULTS))"
   ]
  },
  {
   "cell_type": "markdown",
   "id": "47424af7",
   "metadata": {},
   "source": [
    "# schema"
   ]
  },
  {
   "cell_type": "code",
   "execution_count": 17,
   "id": "7566b4c5",
   "metadata": {},
   "outputs": [],
   "source": [
    "from pydantic import BaseModel\n",
    "\n",
    "\n",
    "class RagToolSchema(BaseModel):\n",
    "    question:str \n",
    "class QuestionRequest(BaseModel):\n",
    "    question: str"
   ]
  },
  {
   "cell_type": "markdown",
   "id": "c4f874c2",
   "metadata": {},
   "source": [
    "# components"
   ]
  },
  {
   "cell_type": "code",
   "execution_count": null,
   "id": "81cc96b6",
   "metadata": {},
   "outputs": [],
   "source": [
    "from langchain_community.tools.polygon.financials import PolygonFinancials\n",
    "from langchain_community.utilities.polygon import PolygonAPIWrapper\n",
    "from trading_bot.utils import get_vector_store, load_embeddings\n",
    "from langchain_community.tools import TavilySearchResults\n",
    "from trading_bot.exception import CustomException\n",
    "from trading_bot.entity import DataIngestion\n",
    "from trading_bot.logger import logging\n",
    "from dataclasses import dataclass\n",
    "from langchain.tools import tool\n",
    "from dotenv import load_dotenv\n",
    "import sys\n",
    "\n",
    "\n",
    "@dataclass\n",
    "class ToolsComponents:\n",
    "    __data_ingestion_config:DataIngestion\n",
    "    __tools_config:Tools\n",
    "\n",
    "    def __call__(self, get_tools:bool=None) -> dict[tool]:\n",
    "        \"\"\"post init to initalize tools\n",
    "\n",
    "        Args:\n",
    "            get_tools (bool, optional): if not provided error will be raised. Defaults to None.        \n",
    "\n",
    "        Returns:\n",
    "            dict[tool]: {\n",
    "            \"retriever_tool\": retriever_tool,\n",
    "            \"tavily_tool\": tavily_tool,\n",
    "            \"financials_tool\": financials_tool\n",
    "            }\n",
    "        \"\"\"\n",
    "        try:\n",
    "            if get_tools==None:\n",
    "                raise ValueError(\"Value should only be boolean\")\n",
    "            \n",
    "            if get_tools:\n",
    "                # retriever\n",
    "                @tool(args_schema=RagToolSchema)\n",
    "                def retriever_tool(question):\n",
    "                    \"\"\"Retrieves n numbers of data from database on the basis of similarity search\n",
    "                    \"\"\"\n",
    "                    # load api keys\n",
    "                    load_status=load_dotenv()\n",
    "                    logging.info(f\"load_dotenv: {{{load_status}}}\")\n",
    "\n",
    "                    # load embeddig model\n",
    "                    embeddings=load_embeddings(self.__data_ingestion_config.GOOGLE_EMBEDDING_MODEL_NAME, \n",
    "                                                self.__data_ingestion_config.HUGGINGFACE_EMBEDDING_MODEL_NAME)\n",
    "                    try:\n",
    "                        embeddings_model_name=embeddings.model\n",
    "                    except:\n",
    "                        embeddings_model_name=embeddings.model_name\n",
    "                    logging.info(f\"loaded embeddings model {{{embeddings_model_name}}}\")\n",
    "                    \n",
    "                    # connect with vector store\n",
    "                    vector_store = get_vector_store(pinecone_api_key=os.getenv(\"PINECONE_API_KEY\"), \n",
    "                                                    index_name= self.__data_ingestion_config.PINECONE_INDEX_NAME, \n",
    "                                                    embeddings=embeddings)\n",
    "                    logging.info(\"loaded vector store\")\n",
    "\n",
    "                    retriever = vector_store.as_retriever(\n",
    "                        search_type=\"similarity_score_threshold\",\n",
    "                        search_kwargs={\n",
    "                            \"k\": self.__tools_config.RETRIEVER_TOP_K , \n",
    "                            \"score_threshold\": self.__tools_config.RETRIEVER_SCORE_THRESHOLD\n",
    "                        }\n",
    "                    )\n",
    "                    return retriever.invoke(question)\n",
    "                \n",
    "                # tavily\n",
    "                tavily_tool = TavilySearchResults(\n",
    "                max_results=self.__tools_config.TAVILY_MAX_RESULTS,\n",
    "                search_depth=\"advanced\",\n",
    "                include_answer=True,\n",
    "                include_raw_content=True,\n",
    "                )\n",
    "\n",
    "                # polygon\n",
    "                api_wrapper = PolygonAPIWrapper()\n",
    "                financials_tool = PolygonFinancials(api_wrapper=api_wrapper)\n",
    "                logging.info(\"all tools collected\")\n",
    "                \n",
    "                return {\n",
    "                    \"retriever_tool\": retriever_tool,\n",
    "                    \"tavily_tool\": tavily_tool,\n",
    "                    \"financials_tool\": financials_tool\n",
    "                    }\n",
    "\n",
    "        except Exception as e:\n",
    "            logging.info(e)\n",
    "            raise CustomException(e, sys)"
   ]
  },
  {
   "cell_type": "markdown",
   "id": "9eb1aaf8",
   "metadata": {},
   "source": [
    "# pipeline"
   ]
  },
  {
   "cell_type": "code",
   "execution_count": null,
   "id": "c30b2bfb",
   "metadata": {},
   "outputs": [],
   "source": [
    "from trading_bot.configuration import DataIngestionConfig\n",
    "\n",
    "\n",
    "class QueryPipeline:\n",
    "\n",
    "    def run(self):\n",
    "        # tools\n",
    "        tools_obj=ToolsComponents(DataIngestionConfig, ToolsConfig)\n",
    "        tools_dict=tools_obj(get_tools=True)\n",
    "        tools=[\n",
    "            tools_dict[\"retriever_tool\"], \n",
    "            tools_dict[\"tavily_tool\"], \n",
    "            tools_dict[\"financials_tool\"]\n",
    "        ]"
   ]
  },
  {
   "cell_type": "code",
   "execution_count": 27,
   "id": "dd3ab407",
   "metadata": {},
   "outputs": [
    {
     "data": {
      "text/plain": [
       "ToolsComponents(_ToolsComponents__data_ingestion_config=<class 'trading_bot.configuration.DataIngestionConfig'>, _ToolsComponents__tools_config=<class '__main__.ToolsConfig'>)"
      ]
     },
     "execution_count": 27,
     "metadata": {},
     "output_type": "execute_result"
    }
   ],
   "source": [
    "tools_obj=ToolsComponents(DataIngestionConfig, ToolsConfig)\n",
    "tools_obj"
   ]
  },
  {
   "cell_type": "code",
   "execution_count": 28,
   "id": "110da4eb",
   "metadata": {},
   "outputs": [
    {
     "data": {
      "text/plain": [
       "{'retriever_tool': StructuredTool(name='retriever_tool', description='Retrieves n numbers of data from database on the basis of similarity search', args_schema=<class '__main__.RagToolSchema'>, func=<function ToolsComponents.__call__.<locals>.retriever_tool at 0x000001C74D562680>),\n",
       " 'tavily_tool': TavilySearchResults(include_answer=True, include_raw_content=True, api_wrapper=TavilySearchAPIWrapper(tavily_api_key=SecretStr('**********'))),\n",
       " 'financials_tool': PolygonFinancials(api_wrapper=PolygonAPIWrapper(polygon_api_key='kgX5WOExrCZ52VFxMuldtUHL1pnTnLRt'))}"
      ]
     },
     "execution_count": 28,
     "metadata": {},
     "output_type": "execute_result"
    }
   ],
   "source": [
    "tools=tools_obj(get_tools=True)\n",
    "tools"
   ]
  },
  {
   "cell_type": "code",
   "execution_count": 31,
   "id": "23115e3c",
   "metadata": {},
   "outputs": [
    {
     "data": {
      "text/plain": [
       "StructuredTool(name='retriever_tool', description='Retrieves n numbers of data from database on the basis of similarity search', args_schema=<class '__main__.RagToolSchema'>, func=<function ToolsComponents.__call__.<locals>.retriever_tool at 0x000001C74D562680>)"
      ]
     },
     "execution_count": 31,
     "metadata": {},
     "output_type": "execute_result"
    }
   ],
   "source": [
    "tools[\"retriever_tool\"]"
   ]
  },
  {
   "cell_type": "code",
   "execution_count": 32,
   "id": "b4f597e5",
   "metadata": {},
   "outputs": [
    {
     "data": {
      "text/plain": [
       "TavilySearchResults(include_answer=True, include_raw_content=True, api_wrapper=TavilySearchAPIWrapper(tavily_api_key=SecretStr('**********')))"
      ]
     },
     "execution_count": 32,
     "metadata": {},
     "output_type": "execute_result"
    }
   ],
   "source": [
    "tools[\"tavily_tool\"]"
   ]
  },
  {
   "cell_type": "code",
   "execution_count": 33,
   "id": "c11e008a",
   "metadata": {},
   "outputs": [
    {
     "data": {
      "text/plain": [
       "PolygonFinancials(api_wrapper=PolygonAPIWrapper(polygon_api_key='kgX5WOExrCZ52VFxMuldtUHL1pnTnLRt'))"
      ]
     },
     "execution_count": 33,
     "metadata": {},
     "output_type": "execute_result"
    }
   ],
   "source": [
    "tools[\"financials_tool\"]"
   ]
  },
  {
   "cell_type": "code",
   "execution_count": null,
   "id": "9ebe26bb",
   "metadata": {},
   "outputs": [],
   "source": []
  }
 ],
 "metadata": {
  "kernelspec": {
   "display_name": ".venv",
   "language": "python",
   "name": "python3"
  },
  "language_info": {
   "codemirror_mode": {
    "name": "ipython",
    "version": 3
   },
   "file_extension": ".py",
   "mimetype": "text/x-python",
   "name": "python",
   "nbconvert_exporter": "python",
   "pygments_lexer": "ipython3",
   "version": "3.10.16"
  }
 },
 "nbformat": 4,
 "nbformat_minor": 5
}
